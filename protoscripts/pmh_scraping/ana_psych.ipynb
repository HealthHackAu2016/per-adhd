{
 "cells": [
  {
   "cell_type": "code",
   "execution_count": 31,
   "metadata": {
    "collapsed": false
   },
   "outputs": [],
   "source": [
    "from collections import defaultdict\n",
    "import json"
   ]
  },
  {
   "cell_type": "code",
   "execution_count": 32,
   "metadata": {
    "collapsed": false
   },
   "outputs": [],
   "source": [
    "import numpy as np\n",
    "import codecs\n",
    "import re\n",
    "from matplotlib import pyplot as plt"
   ]
  },
  {
   "cell_type": "code",
   "execution_count": 33,
   "metadata": {
    "collapsed": false
   },
   "outputs": [],
   "source": [
    "pos = np.loadtxt(\"pos_info_psych.csv\", delimiter=\",\",usecols=(2,6,7,8));\n",
    "text = np.loadtxt(\"pos_info_psych.csv\", dtype=np.unicode, delimiter=\",\",usecols=(9,));\n",
    "text = np.asarray([t[4:-2] for t in text]) #Hack: np is not parsing text cols right"
   ]
  },
  {
   "cell_type": "code",
   "execution_count": 34,
   "metadata": {
    "collapsed": false
   },
   "outputs": [],
   "source": [
    "\n",
    "def def_column(row):\n",
    "    h, tx, ty, p = row\n",
    "    if tx<130:\n",
    "        return \"address\"\n",
    "    elif tx<250:\n",
    "        return \"names\"\n",
    "    elif tx<480:\n",
    "        return \"contact\"\n",
    "    else:\n",
    "        return \"service\"\n"
   ]
  },
  {
   "cell_type": "code",
   "execution_count": 35,
   "metadata": {
    "collapsed": true
   },
   "outputs": [],
   "source": [
    "def isheader(row):\n",
    "    h, tx, ty, p = row\n",
    "    return h>15\n",
    "    "
   ]
  },
  {
   "cell_type": "code",
   "execution_count": 36,
   "metadata": {
    "collapsed": false
   },
   "outputs": [],
   "source": [
    "header_pages = np.unique(pos[(np.apply_along_axis(isheader, 1, pos)), 3])"
   ]
  },
  {
   "cell_type": "code",
   "execution_count": 37,
   "metadata": {
    "collapsed": false
   },
   "outputs": [
    {
     "data": {
      "text/plain": [
       "array(['address', 'contact', 'service', ..., 'service', 'service',\n",
       "       'service'], \n",
       "      dtype='<U7')"
      ]
     },
     "execution_count": 37,
     "metadata": {},
     "output_type": "execute_result"
    }
   ],
   "source": [
    "cols = np.apply_along_axis(def_column, 1, pos)\n",
    "#list(map(print,cols))\n",
    "cols"
   ]
  },
  {
   "cell_type": "code",
   "execution_count": 38,
   "metadata": {
    "collapsed": false
   },
   "outputs": [],
   "source": [
    "def isValidRow(row, header_pages):\n",
    "    h,tx,ty,p = row\n",
    "    if ty<30: \n",
    "        return False\n",
    "    elif p in header_pages and ty>500:\n",
    "        return False\n",
    "    else:\n",
    "        return True"
   ]
  },
  {
   "cell_type": "code",
   "execution_count": 39,
   "metadata": {
    "collapsed": false,
    "scrolled": false
   },
   "outputs": [
    {
     "name": "stdout",
     "output_type": "stream",
     "text": [
      "99\n",
      "99\n",
      "99\n",
      "99\n"
     ]
    },
    {
     "name": "stderr",
     "output_type": "stream",
     "text": [
      "/usr/local/lib/python3.4/dist-packages/IPython/kernel/__main__.py:1: DeprecationWarning: using a boolean instead of an integer will result in an error in the future\n",
      "  if __name__ == '__main__':\n",
      "/usr/local/lib/python3.4/dist-packages/IPython/kernel/__main__.py:2: DeprecationWarning: using a boolean instead of an integer will result in an error in the future\n",
      "  from ipykernel import kernelapp as app\n",
      "/usr/local/lib/python3.4/dist-packages/IPython/kernel/__main__.py:3: DeprecationWarning: using a boolean instead of an integer will result in an error in the future\n",
      "  app.launch_new_instance()\n",
      "/usr/local/lib/python3.4/dist-packages/IPython/kernel/__main__.py:4: DeprecationWarning: using a boolean instead of an integer will result in an error in the future\n"
     ]
    }
   ],
   "source": [
    "print(len(text[cols == 1] ))\n",
    "print(len(text[cols == 2] ))\n",
    "print(len(text[cols == 3] ))\n",
    "print(len(text[cols == 4] ))"
   ]
  },
  {
   "cell_type": "code",
   "execution_count": 40,
   "metadata": {
    "collapsed": false
   },
   "outputs": [],
   "source": [
    "def get_rows(pos, text):\n",
    "    header_pages = np.unique(pos[(np.apply_along_axis(isheader, 1, pos)), 3])\n",
    "    valid_rows =  np.asarray([isValidRow(row, header_pages) for row in pos])\n",
    "    \n",
    "    vpos = pos[valid_rows,:]\n",
    "    vtext = text[valid_rows]\n",
    "    entries = defaultdict(lambda : {'address': '', 'names': '', 'contact': '', 'service':''} )\n",
    "    for page in np.unique(vpos[:,-1]):\n",
    "        print(page)\n",
    "        page_row_inds = vpos[:,-1]==page\n",
    "        page_pos = vpos[page_row_inds, :]\n",
    "        page_text = vtext[page_row_inds]\n",
    "\n",
    "        cell_bottom_inds = np.logical_or(page_text == \"Fax\", page_text == \"Fax:\")\n",
    "        cell_bottoms_ty = page_pos[cell_bottom_inds, -2]\n",
    "        cell_bottoms_ty.sort()\n",
    "        \n",
    "        \n",
    "        \n",
    "        row_assignments = []\n",
    "        for (ii,((h,tx,ty,p), tt)) in enumerate(zip(page_pos, page_text)):\n",
    "            for (row_ii, bottom_ty) in enumerate(cell_bottoms_ty[::-1]):\n",
    "                if ty>= bottom_ty:\n",
    "                    row_assignments.append(row_ii)\n",
    "                    #print(\"good \", tt, \" at \", row_ii)\n",
    "                    break \n",
    "            else:\n",
    "                pass\n",
    "                #print(\"warn: \", tt)\n",
    "                #row_assignments.append(length(cell_bottoms_ty))\n",
    "                \n",
    "        col_assignments = np.apply_along_axis(def_column, 1, page_pos)\n",
    "        \n",
    "        \n",
    "        for (tt, col_ass, row_ass) in zip(page_text, col_assignments, row_assignments):\n",
    "            entries[(page, row_ass)][col_ass]+=tt\n",
    "            \n",
    "    return entries"
   ]
  },
  {
   "cell_type": "code",
   "execution_count": 51,
   "metadata": {
    "collapsed": false
   },
   "outputs": [
    {
     "name": "stdout",
     "output_type": "stream",
     "text": [
      "0.0\n",
      "1.0\n",
      "2.0\n",
      "3.0\n",
      "4.0\n",
      "5.0\n",
      "6.0\n",
      "7.0\n",
      "8.0\n",
      "9.0\n",
      "10.0\n",
      "11.0\n",
      "12.0\n",
      "13.0\n",
      "14.0\n",
      "15.0\n",
      "16.0\n",
      "17.0\n",
      "18.0\n",
      "19.0\n",
      "20.0\n",
      "21.0\n",
      "22.0\n",
      "23.0\n",
      "24.0\n",
      "25.0\n",
      "26.0\n",
      "27.0\n",
      "28.0\n",
      "29.0\n",
      "30.0\n",
      "31.0\n",
      "32.0\n",
      "33.0\n"
     ]
    }
   ],
   "source": [
    "entries = get_rows(pos,text)\n"
   ]
  },
  {
   "cell_type": "code",
   "execution_count": 42,
   "metadata": {
    "collapsed": false
   },
   "outputs": [],
   "source": [
    "def varients(alt_name):\n",
    "    yield alt_name\n",
    "    yield alt_name.lower()\n",
    "    yield \"\".join(alt_name.split())\n",
    "    yield \"\".join(alt_name.lower().split())\n",
    "    yield re.sub(r'[^\\w]', '', alt_name)\n",
    "    yield re.sub(r'[^\\w]', '', alt_name.lower())\n",
    "    #Maybe we miss things with spaces and symbols?\n",
    "    \n",
    "    \n",
    "    \n",
    "def load_service_aliases():\n",
    "    servise_names = json.load(open(\"./spec_types.json\",\"r\"))\n",
    "    aliases = {}\n",
    "    for canon_name, altnames in  servise_names.items():\n",
    "        \n",
    "        for altname in altnames:\n",
    "            for varient in varients(altname):\n",
    "                if len(varient) == 1:\n",
    "                    continue\n",
    "                    \n",
    "                aliases[varient] = canon_name\n",
    "        for varient in canon_name:\n",
    "            if len(varient) == 1:\n",
    "                continue\n",
    "\n",
    "            aliases[varient] = canon_name\n",
    "    return aliases\n",
    "        \n",
    "SERVICE_ALIASES = load_service_aliases()"
   ]
  },
  {
   "cell_type": "code",
   "execution_count": 60,
   "metadata": {
    "collapsed": false
   },
   "outputs": [],
   "source": [
    "def parse_address(tt):\n",
    "    loc_parts = re.findall(r\"[A-Z][A-Z]+\", tt)\n",
    "    return \"area\", \" \".join(loc_parts)\n",
    "\n",
    "\n",
    "def parse_names(tt):\n",
    "#    uc = [t==t.upper]\n",
    "    names = re.findall(r\"[A-Z][a-z]+\", tt)\n",
    "    #surname_and_first = re.findall*()\n",
    "    \n",
    "    #parts = re.findall(r\"[A-Z][A-Z]+[a-z]+\", tt)\n",
    "    #names = []\n",
    "    #for part in parts:\n",
    "    #    if all([p==p.upper() for p in part]):\n",
    "    #        names+=part\n",
    "    #    else:\n",
    "    #        surnames = re.findall(r\"[A-Z]+*\", tt)\n",
    "    if len(names)>2:\n",
    "        names = names[:2]\n",
    "    return  \"name\",\" \".join(names)\n",
    "\n",
    "\n",
    "def parse_services(tt):\n",
    "    mad_skills = set()\n",
    "    for skill_varname, canon_name in SERVICE_ALIASES.items():\n",
    "        if skill_varname in tt:\n",
    "            mad_skills.add(canon_name)\n",
    "    return  \"expertise\", list(mad_skills)\n",
    "\n",
    "\n",
    "def parse_contact(tt):\n",
    "    numbers = re.findall(r\"[0-9][0-9][0-9][0-9] [0-9][0-9][0-9][0-9]\", tt)\n",
    "    if len(numbers) == 0: \n",
    "        return  \"number\",\"\"        \n",
    "    else:\n",
    "        return \"number\", numbers[-1]\n",
    "\n",
    "\n",
    "parsers = {'address': parse_address, 'names': parse_names, 'contact': parse_contact, 'service': parse_services}\n",
    "\n",
    "def make_data_for_jvb(entry):\n",
    "    jvb_format = {'specialistType': \"psychologist\"}\n",
    "    \n",
    "    for key, tt in entry.items():\n",
    "        jvb_key, jvb_value = parsers[key](tt)\n",
    "        jvb_format[jvb_key] = jvb_value\n",
    "        \n",
    "    return jvb_format"
   ]
  },
  {
   "cell_type": "code",
   "execution_count": 61,
   "metadata": {
    "collapsed": false
   },
   "outputs": [
    {
     "data": {
      "text/plain": [
       "{'area': 'SHENTON PARK WA',\n",
       " 'expertise': ['Self-esteem', 'Adolescents', 'ADHD', 'OCD'],\n",
       " 'name': 'Peter Dunlop',\n",
       " 'number': '9388 6834',\n",
       " 'specialistType': 'psychologist'}"
      ]
     },
     "execution_count": 61,
     "metadata": {},
     "output_type": "execute_result"
    }
   ],
   "source": [
    "make_data_for_jvb(list(entries.values())[2])"
   ]
  },
  {
   "cell_type": "code",
   "execution_count": 62,
   "metadata": {
    "collapsed": false
   },
   "outputs": [],
   "source": [
    "with open(\"../../www/default-data/auto_psych.json\",\"w\") as fh:\n",
    "    json.dump([make_data_for_jvb(entry) for entry in entries.values()], fh,\n",
    "                    sort_keys=True, indent=4, separators=(',', ': '))\n"
   ]
  },
  {
   "cell_type": "code",
   "execution_count": 46,
   "metadata": {
    "collapsed": false
   },
   "outputs": [
    {
     "data": {
      "text/plain": [
       "{2}"
      ]
     },
     "execution_count": 46,
     "metadata": {},
     "output_type": "execute_result"
    }
   ],
   "source": [
    "ss=set()\n",
    "ss.add(2)\n",
    "ss"
   ]
  },
  {
   "cell_type": "code",
   "execution_count": null,
   "metadata": {
    "collapsed": true
   },
   "outputs": [],
   "source": []
  },
  {
   "cell_type": "code",
   "execution_count": null,
   "metadata": {
    "collapsed": true
   },
   "outputs": [],
   "source": []
  },
  {
   "cell_type": "code",
   "execution_count": null,
   "metadata": {
    "collapsed": true
   },
   "outputs": [],
   "source": []
  },
  {
   "cell_type": "code",
   "execution_count": null,
   "metadata": {
    "collapsed": true
   },
   "outputs": [],
   "source": []
  }
 ],
 "metadata": {
  "kernelspec": {
   "display_name": "Python 3",
   "language": "python",
   "name": "python3"
  },
  "language_info": {
   "codemirror_mode": {
    "name": "ipython",
    "version": 3
   },
   "file_extension": ".py",
   "mimetype": "text/x-python",
   "name": "python",
   "nbconvert_exporter": "python",
   "pygments_lexer": "ipython3",
   "version": "3.4.2"
  }
 },
 "nbformat": 4,
 "nbformat_minor": 0
}
