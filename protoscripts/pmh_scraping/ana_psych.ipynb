{
 "cells": [
  {
   "cell_type": "code",
   "execution_count": 124,
   "metadata": {
    "collapsed": false
   },
   "outputs": [],
   "source": [
    "from collections import defaultdict\n",
    "import json"
   ]
  },
  {
   "cell_type": "code",
   "execution_count": 125,
   "metadata": {
    "collapsed": false
   },
   "outputs": [],
   "source": [
    "import numpy as np\n",
    "import codecs\n",
    "import re\n",
    "from matplotlib import pyplot as plt"
   ]
  },
  {
   "cell_type": "code",
   "execution_count": 126,
   "metadata": {
    "collapsed": false
   },
   "outputs": [],
   "source": [
    "pos = np.loadtxt(\"pos_info_psych.csv\", delimiter=\",\",usecols=(2,6,7,8));\n",
    "text = np.loadtxt(\"pos_info_psych.csv\", dtype=np.unicode, delimiter=\",\",usecols=(9,));\n",
    "text = np.asarray([t[4:-2] for t in text]) #Hack: np is not parsing text cols right"
   ]
  },
  {
   "cell_type": "code",
   "execution_count": 127,
   "metadata": {
    "collapsed": false
   },
   "outputs": [],
   "source": [
    "\n",
    "def def_column(row):\n",
    "    h, tx, ty, p = row\n",
    "    if tx<130:\n",
    "        return \"address\"\n",
    "    elif tx<250:\n",
    "        return \"names\"\n",
    "    elif tx<480:\n",
    "        return \"contact\"\n",
    "    else:\n",
    "        return \"service\"\n"
   ]
  },
  {
   "cell_type": "code",
   "execution_count": 128,
   "metadata": {
    "collapsed": true
   },
   "outputs": [],
   "source": [
    "def isheader(row):\n",
    "    h, tx, ty, p = row\n",
    "    return h>15\n",
    "    "
   ]
  },
  {
   "cell_type": "code",
   "execution_count": 129,
   "metadata": {
    "collapsed": false
   },
   "outputs": [],
   "source": [
    "header_pages = np.unique(pos[(np.apply_along_axis(isheader, 1, pos)), 3])"
   ]
  },
  {
   "cell_type": "code",
   "execution_count": 130,
   "metadata": {
    "collapsed": false
   },
   "outputs": [
    {
     "data": {
      "text/plain": [
       "array(['address', 'contact', 'service', ..., 'service', 'service',\n",
       "       'service'], \n",
       "      dtype='<U7')"
      ]
     },
     "execution_count": 130,
     "metadata": {},
     "output_type": "execute_result"
    }
   ],
   "source": [
    "cols = np.apply_along_axis(def_column, 1, pos)\n",
    "#list(map(print,cols))\n",
    "cols"
   ]
  },
  {
   "cell_type": "code",
   "execution_count": 131,
   "metadata": {
    "collapsed": false
   },
   "outputs": [],
   "source": [
    "def isValidRow(row, header_pages):\n",
    "    h,tx,ty,p = row\n",
    "    if ty<30: \n",
    "        return False\n",
    "    elif p in header_pages and ty>500:\n",
    "        return False\n",
    "    else:\n",
    "        return True"
   ]
  },
  {
   "cell_type": "code",
   "execution_count": 132,
   "metadata": {
    "collapsed": false,
    "scrolled": false
   },
   "outputs": [
    {
     "name": "stdout",
     "output_type": "stream",
     "text": [
      "99\n",
      "99\n",
      "99\n",
      "99\n"
     ]
    },
    {
     "name": "stderr",
     "output_type": "stream",
     "text": [
      "/usr/local/lib/python3.4/dist-packages/IPython/kernel/__main__.py:1: DeprecationWarning: using a boolean instead of an integer will result in an error in the future\n",
      "  if __name__ == '__main__':\n",
      "/usr/local/lib/python3.4/dist-packages/IPython/kernel/__main__.py:2: DeprecationWarning: using a boolean instead of an integer will result in an error in the future\n",
      "  from ipykernel import kernelapp as app\n",
      "/usr/local/lib/python3.4/dist-packages/IPython/kernel/__main__.py:3: DeprecationWarning: using a boolean instead of an integer will result in an error in the future\n",
      "  app.launch_new_instance()\n",
      "/usr/local/lib/python3.4/dist-packages/IPython/kernel/__main__.py:4: DeprecationWarning: using a boolean instead of an integer will result in an error in the future\n"
     ]
    }
   ],
   "source": [
    "print(len(text[cols == 1] ))\n",
    "print(len(text[cols == 2] ))\n",
    "print(len(text[cols == 3] ))\n",
    "print(len(text[cols == 4] ))"
   ]
  },
  {
   "cell_type": "code",
   "execution_count": 133,
   "metadata": {
    "collapsed": false
   },
   "outputs": [],
   "source": [
    "def get_rows(pos, text):\n",
    "    header_pages = np.unique(pos[(np.apply_along_axis(isheader, 1, pos)), 3])\n",
    "    valid_rows =  np.asarray([isValidRow(row, header_pages) for row in pos])\n",
    "    \n",
    "    vpos = pos[valid_rows,:]\n",
    "    vtext = text[valid_rows]\n",
    "    entries = defaultdict(lambda : {'address': '', 'names': '', 'contact': '', 'service':''} )\n",
    "    for page in np.unique(vpos[:,-1]):\n",
    "        print(page)\n",
    "        page_row_inds = vpos[:,-1]==page\n",
    "        page_pos = vpos[page_row_inds, :]\n",
    "        page_text = vtext[page_row_inds]\n",
    "\n",
    "        cell_bottom_inds = np.logical_or(page_text == \"Fax\", page_text == \"Fax:\")\n",
    "        cell_bottoms_ty = page_pos[cell_bottom_inds, -2]\n",
    "        cell_bottoms_ty.sort()\n",
    "        \n",
    "        \n",
    "        \n",
    "        row_assignments = []\n",
    "        for (ii,((h,tx,ty,p), tt)) in enumerate(zip(page_pos, page_text)):\n",
    "            for (row_ii, bottom_ty) in enumerate(cell_bottoms_ty[::-1]):\n",
    "                if ty>= bottom_ty:\n",
    "                    row_assignments.append(row_ii)\n",
    "                    #print(\"good \", tt, \" at \", row_ii)\n",
    "                    break \n",
    "            else:\n",
    "                pass\n",
    "                #print(\"warn: \", tt)\n",
    "                #row_assignments.append(length(cell_bottoms_ty))\n",
    "                \n",
    "        col_assignments = np.apply_along_axis(def_column, 1, page_pos)\n",
    "        \n",
    "        \n",
    "        for (tt, col_ass, row_ass) in zip(page_text, col_assignments, row_assignments):\n",
    "            entries[(page, row_ass)][col_ass]+=tt\n",
    "            \n",
    "    return entries"
   ]
  },
  {
   "cell_type": "code",
   "execution_count": 134,
   "metadata": {
    "collapsed": false
   },
   "outputs": [
    {
     "name": "stdout",
     "output_type": "stream",
     "text": [
      "0.0\n",
      "1.0\n",
      "2.0\n",
      "3.0\n",
      "4.0\n",
      "5.0\n",
      "6.0\n",
      "7.0\n",
      "8.0\n",
      "9.0\n",
      "10.0\n",
      "11.0\n",
      "12.0\n",
      "13.0\n",
      "14.0\n",
      "15.0\n",
      "16.0\n",
      "17.0\n",
      "18.0\n",
      "19.0\n",
      "20.0\n",
      "21.0\n",
      "22.0\n",
      "23.0\n",
      "24.0\n",
      "25.0\n",
      "26.0\n",
      "27.0\n",
      "28.0\n",
      "29.0\n",
      "30.0\n",
      "31.0\n",
      "32.0\n",
      "33.0\n"
     ]
    },
    {
     "data": {
      "text/plain": [
       "defaultdict(<function __main__.get_rows.<locals>.<lambda>>,\n",
       "            {(1.0,\n",
       "              0): {'address': 'Inclusion  on  this  list  is  not  a  recommendation  by  the  Child  Development  Service  or  th    Psychology Services3/7 Prindiville DriveWANGARA WA   ', 'contact': 'e  Department  of  Health.  This  list  is Phone:  Mobile:  Website:  Email:  Fax: 9409 5563 0419 041 636 www.psychologyservices.com.au annewalterspsw@iinet.net.au', 'names': '  6065 Anne Walters', 'service': ' updated  annually  from  publicly  available  Age: children 2-5 year-12 year Services provided: adaptive behaviourmanagemen-child relationship issueAttention Deficit Hyperactivity Disorder (ADHDdepressiodisturbance '},\n",
       "             (2.0,\n",
       "              0): {'address': 'Inclusion  on  this  list  is  not  a  recommendation  by  the  Child  Development  Service  or  th            Think Therapy4/8 Royal St  Kenwick WA  6107    ', 'contact': 'e  Department  of  Health.  This  list  isPhone:  Mobile:  Website:  Email:  Fax: 6181 0055 0422 126 314 www.thinktherapy.com.auinfo@thinktherapy.com.au6313 0611 ', 'names': '  Kylie Small ', 'service': ' updated  annually  from  publicly  available   Age: infants 0- 2 year-5 year-12 year'},\n",
       "             (3.0,\n",
       "              0): {'address': 'Inclusion  on  this  list  is  not  a  recommendation  by  the  Child  Development  Service  or  thYvette Williams Suite PO Box 4427  Mosman Park  6012   ', 'contact': 'e  Department  of  Health.  This  list  is Phone:  Mobile:  Website:   Email:  Fax: 9485 2933  0435 456422   www.yvettewilliams@bigpond.com  yt.williams@bigpond.com   ', 'names': ' Yvette Williams ', 'service': ' updated  annually  from  publicly  available  Age: infants 0- 2 year-5 year-12 year Services provided: academic performancbehaviourtrainin-child relationship issueAttention Deficit Hyperactivity Disorder (ADHDbehavioural problemdepressiorce/separatio'},\n",
       "             (4.0,\n",
       "              0): {'address': 'Inclusion  on  this  list  is  not  a  recommendation  by  the  Child  Development  Service  or  th    Morrison House93 Morrison RoadMIDLAND WA 6056   ', 'contact': 'e  Department  of  Health.  This  list  is Phone:  Mobile:  Website:  Email:  Fax: 9250 6001  0419 041 636    annewaltersm@iinet.net.au 9250 6002 ', 'names': '   Anne Walters ', 'service': ' updated  annually  from  publicly  available  Age: children 5-12 year Services provided: adaptive behaviourmanagemen assertiveness traininrent-child relationship issueAttention Deficit Hyperactivity Disorder (ADHD'},\n",
       "             (4.0,\n",
       "              1): {'address': 'Perth Psychological Services  9 Sayer Street MIDLAND WA 6056', 'contact': ' Phone:  Mobile:  Website:  Email:   Fax: 9443 3709    www.perthpsychology.com.au reception@perthpsychology.com.au  9443 3718 ', 'names': '  Angela Carroll (for Circle of Security)', 'service': 'depressiodisturbance health-related problemtransition & adjustment issue parentinStress Disorder (PTSD-esteem & self developmen   Other: Focus area: victims of emotional and physical abuse/neglect and trauma  Age: infants 0- 2 year-5 year-12 year Services provided: academic performancbehaviourmanagemen assertiveness traininrent'},\n",
       "             (5.0,\n",
       "              0): {'address': 'Inclusion  on  this  list  is  not  a  recommendation  by  the  Child  Development  Service  or  thInsight Clinical Psychological ServicesSuite 3/16 Minilya AvenueWHITE GUM VALLEY WA 6162   ', 'contact': 'e  Department  of  Health.  This  list  is Phone:  Mobile:  Website:  Email:   Fax:   0402 717 033  www.insightpsychology.net.au  debskender@hotmail.com  6113 7319  ', 'names': '   Deborah Skender', 'service': ' updated  annually  from  publicly  available  Age: infants 0- 2 year-5 year-12 year Services provided: adaptive behaviouranger managemen-child relationship issueDisorder (ADHDprotectioing disorder'},\n",
       "             (5.0,\n",
       "              1): {'address': 'Kids Are Kids Therapy & Education Centre Inc26 Parry Avenue BATEMA 6150   ', 'contact': ' Phone:  Mobile:  Website:  Email:  Fax: 9313 6566     www.kidsarekids.org.au info@kidsarekids.org.au  9313 5566 ', 'names': ' Andrea Willsher', 'service': ' -related problemissue-Compulsive Disorder (OCDparentinTraumatic Stress Disorder (PTSD)-esteem & self developmenabuse self-harocial skill  Other: home and school visits. Experienced with Eating disorders.  Training and supervision in working with early attachment issues 0-3 years.     Age: infants 0- 2 year-5 year-12 years Services provided: academic performancbehaviourmanagement-'},\n",
       "             (6.0,\n",
       "              0): {'address': 'Inclusion  on  this  list  is  not  a  recommendation  by  the  Child  Development  Service  or  thClinic Name and Address Casella DiannePO Box 522  INGLEWOOD WA  6932  ', 'contact': 'e  Department  of  Health.  This  list  is Contact Details  Phone:  Mobile:  Website:  Email:  Fax:   0411 646 128    dcasellapsych@hotmail.com  ', 'names': 'Names of Clinicians  Dianne Casella ', 'service': ' updated  annually  from  publicly  available Services provided  Age: infants 0- 2 year-5 year-12 year Services provided:  acquired brain injurmanagemen assertiveness traininrent-child relationship issuebehavioural problemchild protectiodisorderional behavioural disturbancehealth-related p'},\n",
       "             (6.0,\n",
       "              1): {'address': 'Christine MoorehouseSuite 4 Beaumaris Commercial Centre Contellation DriveOCEAN REEF WA 6027  ', 'contact': ' Phone:  Mobile:  Website:  Email:   Fax:   0429 093 382    Christine.moorehouse@westnet.com.au  9403 0602 ', 'names': '   Christine Moorehouse', 'service': 'roblemgrief & lostransition & adjustment issue-Compulsive Disorder (OCDlit-Traumatic Stress Disorder (PTSDcounsellin-esteem & self-developmen-harsocial skill Other:  home and school visits  Age: children 2-5 year-12 year Services provided: anxietassertiveness trainin-child relationship issuedepression divorce/separatioemotional behavioural disturbance-related problemtransition & adjustment issue'},\n",
       "             (7.0,\n",
       "              0): {'address': 'Inclusion  on  this  list  is  not  a  recommendation  by  the  Child  Development  Service  or  thWest Health Psychology4151 Herdsman PdeWEMBLEY  WA  6014  ', 'contact': 'e  Department  of  Health.  This  list  is   Phone:  Mobile:  Website:  Email:  Fax: 9294 1767        admin@westhealth.com.au  08 9284 1765 ', 'names': '   Ms Robyn BettMs Veronica HolyoakMs Carol Smith ', 'service': ' updated  annually  from  publicly  available   Age: infants 0- 2 year-5 year-12 year Services provided: academic performancbehaviourmanagemen'},\n",
       "             (7.0,\n",
       "              1): {'address': 'William St Family Therapy Centre 544 William Street MT LAWLEY WA  6050   ', 'contact': ' Phone:  Mobile:  Website:  Email:  Fax: 9227 8038    www.wsftc.com.au  info@wsftc.com.au    9277 8938 ', 'names': '  Aldo Gurgone ', 'service': '-child relationship issueDisorder (ADHDbullyind protectioeating disorderhealth-related problemlostransition & adjustment issueroblemneuropsychological assessmen-Compulsive Disorder (OCDdisorder-Traumatic Stress Disorder (PTSDrelationship-esteem & self-developmendisorder-harmanagement Other: home and school visits. Provide child psychiatry service and services for children and adolescence.  Can work in a team on a single casone practitioner working with the parents and one with the child. Age: infants 0- 2 year-5 year-12 year Services provided: academic performancbrain injurDisorder (ADHDdivorce/separatio-related problemintellectual assessmen'},\n",
       "             (8.0,\n",
       "              0): {'address': 'Inclusion  on  this  list  is  not  a  recommendation  by  the  Child  Development  Service  or  thLife Resolutions 21/27 Herdsman PdeWEMBLEY WA 6014  ', 'contact': 'e  Department  of  Health.  This  list  is Phone:  Mobile:  Website:   Email:  Fax: 1300 668 256 (clients) 0411 651 274 (referrers) www.liferesolutions.com.au/morley   morley@liferesolutions.com.au 9272 4018 ', 'names': '  Kirstin Bouse   ', 'service': ' updated  annually  from  publicly  available    Age: infants 0- 2 year-5 year-12 year Services provided: adaptive behaviourmanagemen assertiveness trainin-child relationship issueDisorder (ADHDbullyineating disorderhealth'},\n",
       "             (8.0,\n",
       "              1): {'address': 'LIFEWORKS at 3164/ 316 Onslow RoadSHENTON PARK WA 6008   ', 'contact': '  Phone:  Mobile:  Website:  Email:  Fax: 9382 3645   0403 196 437   www.lifeworksat316.com admin@lifeworksat316.com 9382 2720 ', 'names': '   Dr. Phyllis ProutMr. Dawson Cooke', 'service': '-related problemlos-Compulsive Disorder (OCDdisorder-Traumatic Stress Disorder (PTSD-esteem & self-developmensleeping disorder-harstress management  Other:  Circle of Securit- specialist intervention for women in the peri-natal period.  Forensic expertise   Age: children 2-5 year-12 yearadolescents Services provided: academic performancebehaviouranger managementrainin-'},\n",
       "             (9.0,\n",
       "              0): {'address': 'Inclusion  on  this  list  is  not  a  recommendation  by  the  Child  Development  Service  or  thcont.   ', 'contact': 'e  Department  of  Health.  This  list  is', 'names': ' ', 'service': ''},\n",
       "             (9.0,\n",
       "              1): {'address': 'Dr Sarron GoldmanECU Psychological Services CentreEdith Cowan University Level WANNEROO WA 6065   ', 'contact': 'Fax:   Phone:  Mobile:  Website:  Email:  Fax: 9303 7801     psychologicalservices@ecu.edu.au  9303 7811 ', 'names': '  Dr Paul Masterman', 'service': ' updated  annually  from  publicly  available depressiondisturbancetransition & adjustment issue-Compulsive Disorder (OCDdisorder-Traumatic Stress Disorder (PTSD-esteem & self-developmen-harstress management Other: Assessment and treatment of children and families Age: infants 0- 2 year-12 year Services provided: adaptive behaviourmanagemen-child relationship issuedepressioemotional behavioural disturbance-related '},\n",
       "             (9.0,\n",
       "              2): {'address': 'CentrRoad Gateway Psychological Services 40 Byers RoadMIDLAND WA  6056', 'contact': '  Phone:  Mobile:  Website:  Email:  Fax: 9274 4877  www.gatewaypsychology.comadmin@gatewaypsychology.com ', 'names': '  Dr Karen BrookerDr Catherine Faull   ', 'service': 'problemassessmenneuropsychological assessmen-Compulsive Disorder (OCDder-Traumatic Stress Disorder (PTSDcounsellin-esteem & self-developmen-har  Other:   Age: children 5-12 year Services provided:  academic performancbrain injurHyperactivity Disorder (ADHDbullyin depressioeating disorder'},\n",
       "             (10.0,\n",
       "              0): {'address': 'Inclusion  on  this  list  is  not  a  recommendation  by  the  Child  Development  Service  or  thApplecross Psychological Services Level 1/31 Moreau MewsAPPLECROSS WA 6153   ', 'contact': 'e  Department  of  Health.  This  list  is Phone:  Mobile:  Website:  Email:   Fax: 9364 3762    http://apswa.net.au/ info@apswa.net.auaps@iinet.net.au  9364 4999 ', 'names': '  Dr. Marilyn Barton ', 'service': ' updated  annually  from  publicly  available    Age: infants 0- 2 year-5 year-12 year Services provided: adaptive behaviouranger managemen-child relationship issueDisorder (ADHDbullyineating disorderhealth-'},\n",
       "             (10.0,\n",
       "              1): {'address': 'Carol-Anne Jones 38 May Street  EAST FREMANTLE WA6158   ', 'contact': ' Phone:  Mobile:  Website:  Email:  Fax: 6488 0009        admin@yvbcwa.com.au 93390883 ', 'names': ' Carol-Anne Jones', 'service': 'related problemgrief & losmemory problem-Compulsive Disorder (OCDpsychosiTraumatic Stress Disorder (PTSDcounsellin-esteem & self developmeneeping disordersself-harocial skill Other:  Age: children 2-5 year-12 yearadolescents Services provided: anxiet anger managemenassertiveness trainin-child relationship issuedepressio'},\n",
       "             (11.0,\n",
       "              0): {'address': 'Inclusion  on  this  list  is  not  a  recommendation  by  the  Child  Development  Service  or  thCygnet Clinic cont. Derek Cohen 28 Ionic Street ROSSMOYNE WA 6148', 'contact': 'e  Department  of  Health.  This  list  is   Phone:  Mobile:  Website:  Email:  Fax: 9457 4298  www.theclinicalpsychologist.com.au  6313 0667   ', 'names': '   Derek Cohen ', 'service': ' updated  annually  from  publicly  available depressioemotional behavioural disturbance-related problemassessmenadjustment issueessmenobsessive-Compulsive Disorder (OCDpersonality disorder(PTSDself-esteem & self developmensexual abus-harllmanagement  Other: Group Therapy Age: infants 0- 2 year-5 year-12 year   Services provided: academic performancadaptive behaviouranxietmanagemen assertiveness trainin-'},\n",
       "             (11.0,\n",
       "              1): {'address': 'Helios Psychology2/18 Welwyn Avenue MANNING  6152   ', 'contact': '  derekcohen@iinet.net.auPhone:  Mobile:  Website:  Email:     Fax: 9450 5076     heliospsychology.com admin@heliospsychology.com gretta@heliospsychology.com ', 'names': '  Gretta Little ', 'service': ' child relationship issueDisorder (ADHDbullyindisturbancedifficultieassessmen-Compulsive Disorder (OCparentin-esteem & self developmensleeping disorderocial skill Other:  Age: children 2-5 year-12 yearadolescents Services provided: anxiet anger managemenassertiveness trainin-child relationship issuedepressiodisturbanceissueStress Disorder (PTSDhip-esteem & self developmen-har'},\n",
       "             (12.0,\n",
       "              0): {'address': 'Inclusion  on  this  list  is  not  a  recommendation  by  the  Child  Development  Service  or  thPerth Psychological Services cont.  Psychology Australia Mount Lawley 10 Grosvenor Rd MT LAWLEY  WA 6050', 'contact': 'e  Department  of  Health.  This  list  is   Phone:  Mobile:  Website:  Email:  Fax:  9227 9796    www.psychaust.com.au genevieve@psychaust.com.au ', 'names': '   Dr Genevieve Milnes  ', 'service': ' updated  annually  from  publicly  available combined speech pathology and clinical psychology assessmentpathology assessments.   Age: infants 0- 2 year-5 year-12 year Services provided: academic performancbehaviouranxiettrainin'},\n",
       "             (12.0,\n",
       "              1): {'address': 'Shenton Park Clinical Psychology and Counselling ServicesUnit SHENTON PARK WA6008   ', 'contact': '  Phone:  Mobile:  Website:   Email:  Fax: 9485 2933  9388 6834   www.psychologyservices.com.au  peter@psychologyservices.com.au    ', 'names': '     Peter Dunlop  Patricia Robertson  ', 'service': '-child relationship issueAttention Deficit Hyperactivity Disorder (ADHDdepressioemotional behavioural disturbance-related problemassessmenadjustment issue-Compulsive Disorder (OCDpersonality disorder(PTSDself-esteem & self developmensexual abus-harmanagement Other: Age: children 2-5 year-12 yearadolescents Services provided: academic performancanger managemenassertiveness traininattachment/parent-child relationsh'},\n",
       "             (13.0,\n",
       "              0): {'address': 'Inclusion  on  this  list  is  not  a  recommendation  by  the  Child  Development  Service  or  thClinic Name and Address Child Wellbeing Centre61 Morrison RoadMIDLAND WA  6056   ', 'contact': 'e  Department  of  Health.  This  list  is Contact Details  Phone:  Mobile:  Website:  Email:   Fax: 9274 7062     www.childwellbeingcentre.net.au     274 6513    ', 'names': 'Names of Clinicians  Rachael Tan Linda Baldwin ', 'service': ' updated  annually  from  publicly  available Services provided Age: infants 0- 2 year-5 year-12 year Services provided: academic performancbehaviour anger managemen-child relationship issue'},\n",
       "             (13.0, 1): {'address': 'Cygnet Clinic Suite MIDLAND  WA  6056',\n",
       "              'contact': 'cwbc@westnet.com.au9  Phone:  Mobile:  Website:  Email:  Fax: 9467 7676 www.cygnetclinic.com.aureception@cygnetclinic.com.au 9463 6311 ',\n",
       "              'names': '   Jessica Pitt Bradley  LangeGabby GoodierJane Ebert ',\n",
       "              'service': ' Disorder (ADHDdepressiodisturbance-related problemassessmenadjustment issue memory problem-Compulsive Disorder (OCD-esteem & self-developmendisordersocial skillstress management Other: Multidisciplinary with speech therapy and occupational therapy.   Age: infants 0- 2 year-5 year-12 year Services provided:   academic performancbehaviourmanagemenassertiveness trainin-child relationship issueDisorder (ADHD'},\n",
       "             (14.0,\n",
       "              0): {'address': 'Inclusion  on  this  list  is  not  a  recommendation  by  the  Child  Development  Service  or  thMasters Psychologycont.  Michelle Doyle9/10 Reid PromenadeJOONDALUP WA  6027  ', 'contact': 'e  Department  of  Health.  This  list  is   Phone:  Mobile:  Website:  Email:  Fax: 9301 0905      michelle.doyle@telstra.com 93012081 ', 'names': '     Michelle Doyle  ', 'service': ' updated  annually  from  publicly  available obsessive-Compulsive Disorder (OCDparentinTraumatic Stress Disorder (PTSDcounsellin-esteem & self developmensleeping disorderbus-harocial skillstress management Other:  home and school visitEMDR and clinical psychology.  Age: children 5-12 year Services provided: anxietassertiveness trainin-child relationship issuemdepressiodisturbanceissue-Compulsive Disorder (OCD'},\n",
       "             (14.0,\n",
       "              1): {'address': 'Mindful Life Psychology Unit 10b Jindalee Professional Centre6 Jindalee BoulevardJINDALEE WA 6036  ', 'contact': '  Phone:  Mobile:  Website:   Email:  Fax:   0410 973 365  www.mindfullifepsychology.com.au    anoushka@mindfullifepsychology.com.au    ', 'names': '   Anoushka RassauDr Maureen Fox ', 'service': 'personality disorder-Traumatic Stress Disorder (PTSDn/injury counsellinself-esteem & self-developmen self-har Other: Age: infants 0- 2 year-5 year-12 year Services provided:  anxiet anger managemenattachment/parent-child relationship issueDeficit Hyperactivity Disorder (ADHDbehavioural problem bullyindivorce/separatiobehavioural disturbance'},\n",
       "             (15.0,\n",
       "              0): {'address': 'Inclusion  on  this  list  is  not  a  recommendation  by  the  Child  Development  Service  or  thC Psychology Canningvale 246 Amherst RoadCANNING VALE WA 6155 ', 'contact': 'e  Department  of  Health.  This  list  is Phone:  Mobile: Website:  Email:  Fax: 9456 0323  www.cpsychology.com.au9456 0424   ', 'names': '  Anna Czajka', 'service': ' updated  annually  from  publicly  available  Age:  Children 2--5 year children 5-12 yearadolescents Services provided: academic performancbehaviourassertiveness trainin-child relationship issue'},\n",
       "             (15.0,\n",
       "              1): {'address': 'Child Psychology ClinicCurtin Health & Wellness Centr Curtin University of TechnologBENTLEY WA  6102   ', 'contact': 'anna@cpsychology.com.au     clinical Phone:  Mobile:  Website:    Email:  Fax: 9266 3436      www.healthsciences.curtin.edu.au/teaching/psych_child_clinic.cfm  curtinclinics404@curtin.edu.au 9266 3679 ', 'names': '  Dr Rebecca Anderson (Clinic Coordinator)Dr Clair LawsonDr Trevor MazzucchelliDr Monique NesaMr Paul JefferyNB: sessions provided by clinical psychology trainees under supervision of staff above ', 'service': ' behavioural problemdivorce/separatiohealth-related problemassessmenstment issueObsessive-Compulsive Disorder (OCDself-esteem & self-developmenskill Other: work with children from 4 years   Age: infants 0- 2 year-5 year-12 year Services provided:  anxiet anger managemenassertiveness trainin-child relationship issuedepressiodisturbance-related problemintellectual assessmenent issue-'},\n",
       "             (16.0,\n",
       "              0): {'address': 'Inclusion  on  this  list  is  not  a  recommendation  by  the  Child  Development  Service  or  thNedlands PsychotherapySuite CentrStirling Highway NEDLANDS WA 6009', 'contact': 'e  Department  of  Health.  This  list  isPhone:  Mobile:  Website:  Email:  Fax: 9386 9992    nedlandspsychotherapy.com.au admin@clinpsychs.com.au 9386 9500 ', 'names': '  Trevor Rule ', 'service': ' updated  annually  from  publicly  available   Age: Children 2-5 year-12 yearAdolescents Services provided: anxietAttention Deficit Hyperactivity Disorder (ADHDbehavioural problemdivorce/separatio'},\n",
       "             (16.0,\n",
       "              1): {'address': 'Nedlands PsychotherapySuite CentrStirling Highway NEDLANDS WA 6009', 'contact': ' Phone:  Mobile:  Website:  Email:  Fax: 9386 9992    nedlandspsychotherapy.com.au admin@clinpsychs.com.au 9386 9500 ', 'names': '  Sue McDonald', 'service': '-related problemlife transition & adjustment issue-Compulsive Disorder (OCDdisorder Traumatic Stress Disorder (PTSDrelationship-esteem & self developmenskill Other:    Age: Infants 0- 2 year-5 year-12 year Services provided: attachment/parent-child relationship issuetransition & adjustment issueself-esteem & self development '},\n",
       "             (16.0,\n",
       "              2): {'address': 'Neuropsych Ed: Neuropsychological & Educational ConsultantsUnit SUBIACO WA 6008 ', 'contact': ' Phone:  Mobile:  Website:  Email:  Fax:  0466507205 and 0402445486www.neuropsyched.com.aureferral@neuropsyched.com.au9321 2402 ', 'names': '  Dr. Tania Bianco   ', 'service': 'Other: Focus area development of the understanding of emotions and emotional regulation; strategies for change    Age: children 2-5 year-12 yearadolescents Services provided: academic performancbehaviouracquired brain injurHyperactivity Disorder (ADHDintellectual assessmenproblem  '},\n",
       "             (17.0,\n",
       "              0): {'address': 'Inclusion  on  this  list  is  not  a  recommendation  by  the  Child  Development  Service  or  thInsight Clinical Psychological Services3/73 Canning RoadKALAMUNDA WA 6076  ', 'contact': 'e  Department  of  Health.  This  list  is Phone:  Mobile:  Website:  Email:  Fax:   0402 717 033  www.insightpsychology.net.au debskender@hotmail.com 9257 3129 ', 'names': '   Deborah Skender ', 'service': ' updated  annually  from  publicly  available   Age: infants 0- 2 year-5 year-12 year Services provided:  adaptive behaviour anger managemenrent-child relationship issueAttention Deficit Hyperactivity Disorder (ADHDprotectio'},\n",
       "             (17.0,\n",
       "              1): {'address': 'Life Resolutions1027 Beaufort StreetBEDFORD WA  6052   ', 'contact': ' Phone:  Mobile:  Website:   Email:   Fax: 1300 668 256 (clients) 0411 651 274 (referrers)  www.liferesolutions.com.au/morley   morley@liferesolutions.com.au 9272 4018 ', 'names': '   Kirstin Bouse   ', 'service': 'emotional behavioural disturbance health-related problemeobsessive-Compulsive Disorder (OCDpersonality disorder-Traumatic Stress Disorder (PTSD-esteem & self-developmen-harsocial skillent Other:  home and school visits. Experience with eating disorders. Training and supervision in working with early attachment issues 0-3 years.   Age: infants 0- 2 year-5 year-12 year Services provided: adaptive behaviourmanagemen assertiveness traininrent-child relationship issueAttention Deficit Hyperactivity Disorder (ADHDchild protectiodisorder health-'},\n",
       "             (18.0,\n",
       "              0): {'address': 'Inclusion  on  this  list  is  not  a  recommendation  by  the  Child  Development  Service  or  thThe Charles Street Cliniccont. UWA Eating Disorders Service The University of Western Australia 35 Stirling HwyCRAWLEY WA 6009   ', 'contact': 'e  Department  of  Health.  This  list  is      Phone:  Mobile:  Website:  Email:  Fax: 6488 2644         sue.byrne@uwa.edu.au 6488 2655 ', 'names': '   Ass Prof Susan Byrne Dr Bianca Kingdon Dr Marilyn Fitzgerald', 'service': ' updated  annually  from  publicly  available Other: home and school visitwith speech pathology and occupational therapy assessment and intervention    Age: children 5-12 year Services provided: eating disorder-related problems     Other: private outpatient treatment service for childreadolescents and adults with eating and weight disorders or other eat'},\n",
       "             (18.0,\n",
       "              1): {'address': 'Vivid Psychology 973 Wellington Street WEST PERT6008   ', 'contact': '     Phone:  Mobile:  Website:  Email:  Fax: 9226 3401       www.vividpsychology.com.au admin@vividpsychology.com.au  9486 7282 ', 'names': '  Danielle Dix Hannelie SchefferEmily McGurkVanessa GentDr Kellie JonesDr Alison Gomes  ', 'service': 'ing and body image concerns. Treatment for anorexia nervosdisordemanagement and obesity. Treatments include cognitive-behavioural treatment (CBT) for adults and adolescentand family-based treatment for anorexia nervosa and bulimia nervosa (FBT) for children and adolescents.       Age: infants 0- 2 year-5 year-12 year Services provided: adaptive behaviourinjuranxiettrainin-child relationship issue'},\n",
       "             (19.0,\n",
       "              0): {'address': 'Inclusion  on  this  list  is  not  a  recommendation  by  the  Child  Development  Service  or  thDouro House Psychological Health Care 14 Douro Place   WEST PERTH WA  6005   ', 'contact': 'e  Department  of  Health.  This  list  isPhone:  Mobile:  Website:  Email:   Fax:   0481 563 877  www.dourohouse.com.au  9322 9066 ', 'names': 'Pippa Laing  ', 'service': ' updated  annually  from  publicly  available    Age: infants 0- 2 years-5 year-12 year Services provided: anger managemenanxietassertiveness trainin-child relationship issueAttention Deficit Hyperactivity Disorder (ADHDautisbehavioural problembullyin eating disordertional behavioural disturbance '},\n",
       "             (19.0,\n",
       "              1): {'address': 'Dr Clair Lawson & Associates 34 Coghlan Road SUBIACO WA  6008   ', 'contact': ' pippalaing@iinet.net.au       Phone:  Mobile:  Website:  Email:   Fax: 6143 4499  0438 028 210  www.lawsonpsychology.com.au  reception@lawsonpsychology.com.au   9200 5696 ', 'names': ' Dr Clair LawsonRebecca Jamieson Jane Norgard  Kelly Fullarton   Dr Alicia HandleyMichelle Lund  ', 'service': 'health-related problem grief & loslife transition & adjustment issue-Compulsive Disordepersonality disorderphysical disability Post Traumatic Stress Disorder (PTSDself-esteem & self-developmensexual abus-harstress management Other: home and school visits  Age: children 2-5 years-12 yearadolescents Services provided: academic performancanger managemen assertiveness traininattachment/parent-child relationship issueal problemsemotional behavioural disturbance-related '},\n",
       "             (20.0,\n",
       "              0): {'address': 'Inclusion  on  this  list  is  not  a  recommendation  by  the  Child  Development  Service  or  thPerth Clinical Psychologists392 Rokeby Road SUBIACO WA  6008   ', 'contact': 'e  Department  of  Health.  This  list  is Phone:  Mobile:  Website:  Email:  Fax:    0411 464 064  www.perthcp.com.au   DrNikoloski@perthcp.com.au 9388 7622 ', 'names': ' Dr Mimma Nikoloski ', 'service': ' updated  annually  from  publicly  available   Age: infants 0- 2 year-5 year-12 year Services provided: academic performancbehaviouranxiet assertiveness trainin-child relationship issue'},\n",
       "             (20.0,\n",
       "              1): {'address': 'Perth Psychological Services 100 Scarborough Beach RoadMT HAWTHORN WA 6016   ', 'contact': '     Phone:  Mobile:  Website:  Email:   Fax: 9443 3709    www.perthpsychology.com.au reception@perthpsychology.com.au  9443 3718 ', 'names': '   Lucious ArcoAngella CarrollRochelle Castine  Raylene LewisSuzanne Midford  ', 'service': \"Attention Deficit Hyperactivity Disorder (ADHDbehavioural problemdivorce/separatiobehavioural disturbanceassessmenadjustment issue-Compulsive Disorder (OCDStress Disorder (PTSD-esteem & self developmenand school visits Other: Circle of Security Parenting Program (delivered individually or in groupsAustralian Psychological Society Autism Identified Practitioner  Member of the WA Autism Diagnostician\\\\'s Forum   Age: infants 0- 2 year-5 year-12 year Services provided: academic performancbehaviouracquired brain injurmanagemen assertiveness trainin-child relationship issueAttention Deficit Hyperactivity Disorder (ADHD\"},\n",
       "             (21.0,\n",
       "              0): {'address': 'Inclusion  on  this  list  is  not  a  recommendation  by  the  Child  Development  Service  or  thNedlands PsychotherapySuite CentrStirling Highway NEDLANDS WA 6009', 'contact': 'e  Department  of  Health.  This  list  is Phone:  Mobile:  Website:  Email:  Fax:  9386 9992    nedlandspsychotherapy.com.au admin@clinpsychs.com.au 9386 9500 ', 'names': '  Andrew Relph  ', 'service': ' updated  annually  from  publicly  available   Age: Infants 0- 2 year-5 year-12 year Services provided:  academic performancbehaviourattachment/parent-child relationship issueAttention Deficit Hyperactivity Disorder (ADHDproblemeating disorder'},\n",
       "             (21.0,\n",
       "              1): {'address': ' Nedlands PsychotherapySuite CentrStirling Highway NEDLANDS WA 6009', 'contact': '  Phone:  Mobile:  Website:  Email:  Fax: 9386 9992    nedlandspsychotherapy.com.au admin@clinpsychs.com.au 9386 9500 ', 'names': '   Claudia Lazzari', 'service': ' behavioural disturbancehealth-related problemlos-Compulsive Disorder (OCDpsychosiTraumatic Stress Disorder (PTSD-esteem & self developmenabus-har Other:    Age: Infants 0- 2 year-5 year-12 year Services provided: adaptive behaviourmanagemenassertiveness trainin-child relationship issue'},\n",
       "             (21.0,\n",
       "              2): {'address': 'Nedlands PsychotherapySuite CentrStirling Highway NEDLANDS WA 6009', 'contact': ' Phone:  Mobile:  Website:  Email:  Fax: 9386 9992    nedlandspsychotherapy.com.au admin@clinpsychs.com.au 9386 9500 ', 'names': '  Jane Faulkner', 'service': 'depressioemotional behavioural disturbance-related problemissue-Compulsive Disorder (OCDparentinTraumatic Stress Disorder (PTSDbilitation/injury counsellinrelationship-esteem & self developmenself-har Other:    Age: adolescents Services provided: anxietydisorderObsessive-Compulsive Disorder (OCD-esteem & self developmen-har'},\n",
       "             (22.0,\n",
       "              0): {'address': 'Inclusion  on  this  list  is  not  a  recommendation  by  the  Child  Development  Service  or  thLai Meng Yap 280 South Terrace SOUTH FREMANTLE WA 6162   ', 'contact': 'e  Department  of  Health.  This  list  is Phone:  Mobile:  Website:  Email:  Fax: 9335 4166  0418 889 892     laimengyap@gmail.com 9335 4177 ', 'names': ' Lai Meng Yap ', 'service': ' updated  annually  from  publicly  available  Age: infants 0- 2 year-5 year-12 year Services provided: anxietotional behavioural disturbancelife transition & adjustment issue-Compulsive Disorder (OCD(PTSD    '},\n",
       "             (22.0,\n",
       "              1): {'address': 'Lucy Dow 23 Lilly Street SOUTH FREMANTLE WA 6162   ', 'contact': 'Phone:  Mobile:  Website:  Email:  Fax: 9430 5995        dow_hall@optusnet.com.au   ', 'names': ' Lucy Dow  ', 'service': 'Other: Work is based on a developmental understandin treatment model is psychoanalytic psychotherapy.  Age: children 2-5 year children 5-12 Year Services provided: academic performancanger managemenattachment/parent-child relationship issuebullyinhealth-'},\n",
       "             (22.0,\n",
       "              2): {'address': 'Martinovich Psychological Services 32 Holdsworth St FREMANTLE WA  6160   ', 'contact': '   Phone:  Mobile:  Website:  Email:  Fax: 9433 6559     www.martinovichpsychologicalservices.com  office@mpsfremantle.com.au  9430 6487 ', 'names': 'Angela MartinovichJan RobinsonKathryn Schneider', 'service': 'related problem-Compulsive Disorder (OCDsleeping disorder Other:     Age: children 5-12 year Services provided: academic performancbehaviourtrainin-child relationship issueAttention Deficit Hype'},\n",
       "             (23.0,\n",
       "              0): {'address': 'Inclusion  on  this  list  is  not  a  recommendation  by  the  Child  Development  Service  or  thMartin Exell 12 Yanagin CrescentCITY BEACH WA   6015   ', 'contact': 'e  Department  of  Health.  This  list  isPhone:  Mobile:  Website:   Fax:   9385 8178      martinexcell@iinet.net.au ', 'names': ' Martin Exell  ', 'service': ' updated  annually  from  publicly  available  Age: infants 0- 2 year-5 year-12 year Services provided: academic performancbehaviouranger managemenbehavioural problemdivorce/separatiohealth'},\n",
       "             (23.0,\n",
       "              1): {'address': 'Mt Lawley Clinical Psychology  10 Grosvenor Road MT LAWLEY WA  6050   ', 'contact': 'Email:  Phone:  Mobile:  Website:  Email:   Fax: 9371 2569 0421 348 438 www.mtlawleyclinicalpsych.com.au   wendyjb@westnet.com.au9271 1009  ', 'names': ' Wendy Britten', 'service': '-related problemassessmen-esteem & self development Other:  Age: children 5-12 year Services provided: anxiet behavioural probledepressioemotional behavioural disturbance-related problemissue-Compulsive Disorder (OCDparentin-esteem & self developmensocial skill   '},\n",
       "             (23.0,\n",
       "              2): {'address': 'Nedialka Lazarov 544 William Street MT LAWLEY WA  6050    ', 'contact': ' Phone:  Mobile:  Website:  Email:  Fax:   0437 103 001    nedialkalazarov@yahoo.co9277 8938 ', 'names': '  Nedialka Lazarov ', 'service': ' Other: .uk Age: infants 0- 2 year-5 year-12 year Services provided: academic performancacquired brain injurattention Deficit Hyperactivity Disorder (ADHDdivorce/separatio-related problemintellectual assessmen'},\n",
       "             (24.0,\n",
       "              0): {'address': 'Inclusion  on  this  list  is  not  a  recommendation  by  the  Child  Development  Service  or  thIntegral Psychology Services 9A/153 Trappers DriveWOODVALE WA 6026  ', 'contact': 'e  Department  of  Health.  This  list  isMobile:  Website:  Email:  Fax: 0417 627 595   integralpsychology@westnet.com.au   9309 1429 ', 'names': '  Flavia Bises ', 'service': ' updated  annually  from  publicly  available Age: adolescents Services provided: anxietdivorce/separatioadjustment issue-esteem & self-developmenstress management '},\n",
       "             (24.0,\n",
       "              1): {'address': 'Kingsley/Wangara Psychology Services3/7 Prindiville DriveWANGARA WA  6065   ', 'contact': '   Phone:  Mobile:  Website:   Email:     Fax: 9409 5563     www.psychologyservices.com.au  kingsley@psychologyservices.com.au.au  9381 2839 ', 'names': '    Peter DunlopPatricia RobertsonPamela Woods', 'service': '  Other: Age: children 2-5 year-12 year Services provided:  academic performancbehaviourtrainin-child relationship issuebehavioural problemdepressioemotional behavioural disturbanceintellectual assessmen& adjustment issue-Compulsive Disorder (OCDdisabilit-Traumatic Stress Disorder (PTSDrehabilitation/injury counsellin Other: '},\n",
       "             (24.0,\n",
       "              2): {'address': 'Lakeside PsychotherapySuite 2/10 Reid Promenade JOONDALUP WA 6027  ', 'contact': ' peter@psychologyservices.com Phone:  Mobile:  Website:  Email:   Fax: 9300 2780      info@lakesidepsychotherapy.com.au   9300 2741 ', 'names': '    Dr Linda Basson', 'service': '-esteem & self-developmenself-har   home and school visits Age: infants 0- 2 year-5 year-12 year Services provided: academic performance adaptive behaviourassertiveness trainin-child relationship issue'},\n",
       "             (25.0,\n",
       "              0): {'address': 'Inclusion  on  this  list  is  not  a  recommendation  by  the  Child  Development  Service  or  thLinden Clinical Psychology  4/64 Marina BoulevardOCEAN REEF WA 6027 ', 'contact': 'e  Department  of  Health.  This  list  is Phone:  Mobile:  Website:   Email:   Fax: 0411 564 587    www.lindenclinicalpsychology.com.au  nadene@lindenclinicalpsychology.com.au  9403 4911 ', 'names': '  Nadene van der Linden', 'service': ' updated  annually  from  publicly  available Age: infants 0- 2 year-5 year-12 year Services provided: adaptive behaviourmanagemenrent-child relationship issuedepressiobehavioural disturbance-related problem& los-Compulsive Disorder (OCDdisorderrelationship-'},\n",
       "             (25.0,\n",
       "              1): {'address': 'Love & Limits Clinical Psychology 83 Scarborough Beach SCARBOROUGH WA 6019    ', 'contact': ' Phone:  Mobile:  Website:    Email:  Fax: 9245 3838  0411 889 239 https://healthengine.com.au/psychologist/wa/scarborough/zyron-zyron@iinet.net.au  9245 3242 ', 'names': 'Zyron Krupenia', 'service': 'esteem & self developmenabus-har Other: Age: children 5-12 year Services provided: adaptive behaviourmanagemenssertiveness traininrent-child relationship issueAttention Deficit Hyperactivity Disorder (ADHDdepressiodisturbance grief & losLearning difficultieobsessive'},\n",
       "             (25.0,\n",
       "              2): {'address': 'Masters PsychologySuite 3b/210 Wanneroo Road MADELEY WA 6065  ', 'contact': 'krupenia/s55706   Phone:  Mobile:  Website:  Email:   Fax: 9409 6709       admin@masterspsychology.com.au   9467 6195  ', 'names': '  Rochelle Masters Janice Dommisse  ', 'service': '-Compulsive Disorder (OCDTraumatic Stress Disorder (PTSD-esteem & self developmenabus-haress managemenand school visits Other: Focus areas: parenting issues; child behaviour problems; ADHD in children and adults. Age: children 5-12 year Services provided:  academic performancbehaviourmanagemen assertiveness traininrent-child relationship issueAttention Deficit Hyperactivity Disorder (ADHD'},\n",
       "             (26.0,\n",
       "              0): {'address': 'Inclusion  on  this  list  is  not  a  recommendation  by  the  Child  Development  Service  or  thHamilton Psychology Practice 11 Hamilton St SUBIACO  WA 60008  ', 'contact': 'e  Department  of  Health.  This  list  is Phone:  Mobile:  Website:  Email:  Fax: 6267 6033 0419 973 181 www.hamiltonpsychology.com.auamy.goldstein@yahoo.com.au 6161 1597 ', 'names': ' Amy Goldstein  ', 'service': ' updated  annually  from  publicly  available  Age: infants 0- 2 year-5 year-12 yearescents Services provided: academic performancanger managemenassertiveness traininattachment/parent-child relationship issue behavioural problem'},\n",
       "             (26.0,\n",
       "              1): {'address': 'Jeffery&Ree Clinical Psychologists Hamilton Psychology Practice11 Hamilton St SUBIACO  WA 60008  ', 'contact': '   Phone:  Mobile:  Website:   Email:  Fax: 6267 6033  www.jefferyreeclinicalpsychologists.com  paul.jeffery@optusnet.com.au 6161 1597 ', 'names': '    Paul Jeffery Michelle La Puma  ', 'service': 'eating disorderdisturbancehealth-related problemadjustment issue-Compulsive Disorder (OCD(PTSDlationshipself-esteem & self developmensleeping disorder Other:  Age: infants 0- 2 year-5 year-12 year Services provided: academic performancanger managemen assertiveness traininattachment/parent-child relationship issue behavioural problemeating disorderbehavioural disturbancehealth'},\n",
       "             (26.0,\n",
       "              2): {'address': 'Kate Smith 80 Evandale St FLOREAT WA   6014   ', 'contact': ' Mobile:  Website:  Email:  Fax:   0433 242 653     katecsmith@bigpond.com  9381 5270 ', 'names': '  Kate Smith  ', 'service': '-related problemadjustment issue-Compulsive Disorder (OCD(PTSD self-esteem & self developmensleeping disordersocial skill Other:  Age: children 5-12 year Services provided: adaptive behaviourautisparentin-esteem & self-developmensocial skillement   '},\n",
       "             (27.0,\n",
       "              0): {'address': 'Inclusion  on  this  list  is  not  a  recommendation  by  the  Child  Development  Service  or  thGraeme BurtonUnit 7 2684 Albany HwyKELMSCOTT WA6111   ', 'contact': 'e  Department  of  Health.  This  list  is Phone:  Mobile:  Website:  Email:  Fax:    0403 620 414     gothunderburton@bigpond.com  ', 'names': '   Graeme Burton ', 'service': ' updated  annually  from  publicly  available  Age: children 5-12 year Services provided:  anxiet-child relationship issueprotectiodepressio-related problempersonality disorderorder (PTSD    '},\n",
       "             (27.0,\n",
       "              1): {'address': 'Ley St Psychology2/56 Ley StreetMANNING WA 6152   ', 'contact': '  Phone:  Mobile:  Website:  Email:  Fax: 9450 5233  0401 236 439  www.leystpsychology.com trinityherbert@westnet.com.au  ', 'names': '    Trinity HerbertNatalie Hodgen', 'service': '  Other:   Age: children 5-12 year Services provided:  anxiet anger managemenassertiveness trainin-child relationship issuedivorce/separatio emotional behavioural disturbance grief & '},\n",
       "             (27.0,\n",
       "              2): {'address': 'Suzanne Scott202 High Road RIVERTON WA 6148   ', 'contact': ' Phone:  Mobile:  Website:  Email:  Fax: 9354 8777  0437 548 777     suzanneScott@westnet.com.au   ', 'names': '   Suzanne Scott ', 'service': 'los obsessive-Compulsive Disorder (OCDpersonality disorder(PTSD self-esteem & self developmensleeping disorder-harstress managemen Other:  Assessmenherapother interventionexposure therapy (offsite)  Age: children 5-12 year Services provided:  anxiety anger managemenattachment/parent-child relationship issueproblemdisturbance health-related problemtransition & adjustment issue-'},\n",
       "             (28.0,\n",
       "              0): {'address': 'Inclusion  on  this  list  is  not  a  recommendation  by  the  Child  Development  Service  or  thDr Isabel Fernandez & Associates Glengarry Professional Centre Suite 6/ 209 Warwick RoadDUNCRAIG WA 6023  ', 'contact': 'e  Department  of  Health.  This  list  is  Phone:  Mobile:  Website:   Email:   Fax: 9447 2000    www.fernandezpsychology.com.au   reception@fernandezpsychology.com.au  9447 2022 ', 'names': '  Dr Isabel Fernandez  Catherine Brennan  Michelle Lund', 'service': ' updated  annually  from  publicly  available Age: infants 0- 2 year-5 year-12 year Services provided: academic performancbehaviournger managementrainin-child relationship issueAttention Deficit Hyperactivity Disorder (ADHDbehavioural problemdivorce/separatiobehavioural disturbancelth-'},\n",
       "             (28.0,\n",
       "              1): {'address': 'Dr Sarron Goldman Lake Goollelal Medical CentrWanneroo Rd MADELEY WA 6065 ', 'contact': ' Phone:  Mobile:  Website:  Email:  Fax: 6304 5824   sarrongoldman@yahoo.com.au ', 'names': '  Dr Sarron Goldman', 'service': 'related problemgender identity issueadjustment issue-Compulsive Disorder (OCDPost-Traumatic Stress Disorder (PTSDself-esteem & self-developmensexual abus self-harsocial skills stress management Other:    Age: infants 0- 2 year-5 year-12 year Services provided: academic performancbehaviourrtiveness trainin-child relationship issueAttention Deficit Hyperactivity Disorder (ADHDbehavioural problem'},\n",
       "             (29.0,\n",
       "              0): {'address': 'Inclusion  on  this  list  is  not  a  recommendation  by  the  Child  Development  Service  or  thCassidy Psychology175 Davy Street BOORAGOON WA 6154', 'contact': 'e  Department  of  Health.  This  list  is  Phone:  Mobile:  Website:  Email:  Fax: 9317 7932   0406 490 151  www.cassidypsychology.comkellie@cassidypsychology.com 9317 7914 ', 'names': '  Dr. Kellie Cassidy  Ms. Karri Stewart', 'service': ' updated  annually  from  publicly  available Age: infants 0- 2 year-5 year-12 year Services provided: anxiet anger managemenattachment/parent-child relationship issuesDeficit Hyperactivity Disorder (ADHDbehavioural problemdepressio'},\n",
       "             (29.0,\n",
       "              1): {'address': 'Clinical Psychology Therapy Services 213a South Street BEACONSFIELD WA 6162 ', 'contact': '-  Phone:  Mobile:  Website:   Email:  Fax: 9487 1859 0435 325 005  www.clinicalpsychologytherapy.com   drjillianhorton@gmail.com', 'names': ' Dr. Jillian Horton Senior Clinical Psychologist', 'service': '  emotional behavioural disturbance-related problemdifficultietransition & adjustment issueobsessive-Compulsive Disorder (OCD  parentindisabilitrelationshipself-esteem & self developmensleeping disorderself-harmanagement Other: Enuresis and encopresis. IQ assessments. Home and school visits  Age: infants 0- 2 year-5 year-12 year Services provided: anxiet anger managemenassertiveness trainin-child relationship issueDisorder (ADHDodivorce/separatio'},\n",
       "             (29.0,\n",
       "              2): {'address': 'Cygnet Clinic  25 Ellen Street  FREMANTLE WA 6160    ', 'contact': '     Phone:  Website:  Email:  Fax: 9467 6373   www.cygnetclinic.com.au fremantle@cygnetclinic.com.au 9463 6311 ', 'names': ' Dr Brendon Dellar Dr. Georgie White Ms Kim Mercer Maria Krabbe Dr Catherine Jackson', 'service': 'behavioural disturbanceadjustment issue-Compulsive Disorder (OCD(PTSD-esteem & self developmensleeping disordercial skill Other: Therapy approaches include: CBtherap. Irritable bowel (IBS) and other gastro management problems.   Age: infants 0- 2 year-5 year-12 year Services provided: academic performancbehaviournxiet'},\n",
       "             (30.0,\n",
       "              0): {'address': 'Inclusion  on  this  list  is  not  a  recommendation  by  the  Child  Development  Service  or  thMartinovich Psychological Services Hunsdon House Suite ROCKINGHAM WA 6168 ', 'contact': 'e  Department  of  Health.  This  list  is   Phone:  Mobile:  Website:  Email:  Fax: 9527 6599    www.martinovichpsychologicalservices.com     9527 6596 ', 'names': '  Angela MartinovichJanet RobinsonKathryn Schneider  ', 'service': ' updated  annually  from  publicly  available Age: children 5-12 year Services provided: academic performancbehaviourtrainin-child relationship issueAttention Deficit Hyperactivity Disorder (ADHDbehavioural problemdepressiodisturbance grief & los '},\n",
       "             (30.0,\n",
       "              1): {'address': 'Michelle Marsh  1 / 275 Marmion StreetMELVILLE  WA  6156   ', 'contact': '  office@mpsfremantle.com.au  Phone:  Mobile:  Website:  Email:  Fax: 9200 6278      reception@mmcps.com.au ', 'names': ' Michelle Marsh', 'service': 'life transition & adjustment issue-Compulsive Disorder (OCDdisorderrelationships self-esteem & self developmenabus-har Other:   Age: infants 0- 2 year-5 year-12 year Services provided: adaptive behaviourmanagemen-child relationship issueDisorder (ADHD'},\n",
       "             (30.0,\n",
       "              2): {'address': 'Paul Ryan 5 Shuffrey Street  FREMANTLE WA 6160 and 14 Robinson Road ROCKINGHAM WA 6168   ', 'contact': 'Phone:  Mobile:  Website:  Email:  Fax: 9433 6538            www.fremantlepsychology.com.au  paulryan@iinet.net.au 9335 6425  ', 'names': '  Paul Ryan ', 'service': 'bullyinbehavioural disturbanceadjustment issue-Compulsive Disorder (OCD parentin(PTSDnshipself-esteem & self developmensleeping disorder-harmanagement Other:   Age: adolescents Services provided: anxiet anger managemenassertiveness traininssio-related problemgrief & losissue-Compulsive Disorder (OCDTraumatic Stress Disorder (PTSDcounsellin-'},\n",
       "             (31.0,\n",
       "              0): {'address': 'Inclusion  on  this  list  is  not  a  recommendation  by  the  Child  Development  Service  or  thSt. Quentins Clinical Psychology Suite 1Avenue CLAREMONT WA  6010   ', 'contact': 'e  Department  of  Health.  This  list  is Phone:  Mobile:  Website:   Email:  Fax:   0409 087 172  www.stquentinspsychology.com.au    mmpsych@bigpond.net.au  9285 0171 ', 'names': 'Marcia Mumme ', 'service': ' updated  annually  from  publicly  available  Age: adolescents Services provided: anxietdivorce/separatiobehavioural disturbanc-related problemgender identity issueadjustment issue-Compulsive Disorder (OCD-Traumatic Stress Disorder (PTSrelationship-esteem & self-developmen-har'},\n",
       "             (31.0,\n",
       "              1): {'address': 'Stephanie Bennett 4/23 Rheola S WEST PERTH WA 6005   ', 'contact': ' Phone:  Mobile:  Website:  Email:   Fax: 9324 3088  0419 945 603    Stephaniebennettpsychology@gmail.com  9324 3288 ', 'names': ' Stephanie Bennett', 'service': 'stress management    Other: Age: children 2-5 year-12 yearadolescents Services provided: anxiet-child relationship issueemotional behavioural disturbance health-related problem(PTSD self-esteem & self developmensleeping d'},\n",
       "             (31.0,\n",
       "              2): {'address': 'The Charles Street Clinic 517 Charles Street NORTH PERTH WA6006   ', 'contact': '   Phone:  Mobile:  Website:  Email:  Fax: 9443 5630  0414 218 139   rachel.gallagher@iinet.net.au; cairnsgroup@gmail.com     ', 'names': '   Rachel Gallagher Darin Cairns Tiffany Rochester  ', 'service': 'isorder Other:  Age: infants 0- 2 year-5 year-12 year Services provided: academic performancbehaviouracquired brain injurmanagemen assertiveness traininrent-'},\n",
       "             (32.0,\n",
       "              0): {'address': 'Inclusion  on  this  list  is  not  a  recommendation  by  the  Child  Development  Service  or  thClinic Name and AddressBridget Boultwood14 Douro Place WEST PERTH WA  6005   ', 'contact': 'e  Department  of  Health.  This  list  is Contact Details  Phone:  Mobile:  Website:  Email:  Fax:   0437 911 797  bboultwd@iinet.net.au  6314 4666 ', 'names': ' Names of Clinicians Bridget Boultwood ', 'service': ' updated  annually  from  publicly  available Services provided  Age: infants 0- 2 year-5 year-12 year Services provided: anxiet-child relationship issueonal behavioural disturbancegrief & los adjustment issuePost Traumatic Stress Disorder (PTSD-esteem & self development  '},\n",
       "             (32.0,\n",
       "              1): {'address': 'Clinic of Collaborative Intervention 33/4 Ventnor AvenueWEST PERTH WA 6005   ', 'contact': '   Phone:  Mobile:  Website:  Email:  Fax:   0466 338 129  www.dryajnacoci.com.au admin@clinicofcollaborativeinterventions.com.au   ', 'names': '  Dr. Yajna Coci ', 'service': 'Other: home and school visits   Age: infants 0- 2 year-5 year-12 year Services provided: anxietattachment/parent-child relationship issueproblemtransition & adjustment issuedisorderPost '},\n",
       "             (32.0,\n",
       "              2): {'address': 'Douro House Psychological Health Care 14 Douro Place   WEST PERTH WA  6005         ', 'contact': ' Phone:  Mobile:  Website:  Email:  Fax: 9322 9666  0481 563 877  www.dourohouse.com.au nramondo@dourohouse.com.au 9322 9066 ', 'names': ' Nick Ramondo     ', 'service': 'Traumatic Stress Disorder (PTSDrelationship-esteem & self developmenabus-har Other: workshopEMDR  Schema TherapPsychodynamic therapy   Age: children 2-5 year-12 year adolescents '},\n",
       "             (33.0,\n",
       "              0): {'address': 'Inclusion  on  this  list  is  not  a  recommendation  by  the  Child  Development  Service  or  thProject KIDUniversity Child Psychology Clinic Murdoch Universit19 MURDOCH  WA    6160  ', 'contact': 'e  Department  of  Health.  This  list  is - Phone:  Mobile:  Website:       Email:   Fax: 9360 2258    www.projectkids.com.auhttp://www.murdoch.School-of-PsychologyExercise-Science/Facilitiesand-services/MurdochPsychology-projectkids@murdoch.edu.au 9360 2258 ', 'names': ' Dr. Corinne Reid Dr. Mike MonisseRedman Dr. Helen Correia ', 'service': ' updated  annually  from  publicly  available ; edu.au/-and---Age: infants 0- 2 year-5 year-12 yearlescents Services provided: academic performancadaptive behaviour-child relationship issuedepressioemotional behavioural disturbanceissuedifficultietransition & adjustment issuememory problem Post Traumatic Stress Disorder (PTSD-esteem & self developmensleeping disorderocial skill Other: Whole-of- '},\n",
       "             (33.0,\n",
       "              1): {'address': 'South Psych Counselling Centre Suite A13 / 550 Canning HwyATTADALE  WA 6155   ', 'contact': 'Clinic/ Phone:  Mobile:  Website:  Email:   Fax:  0432 845 422 www.southpsych.com.auanna@southpsych.com.au ', 'names': '   Anna Czajka', 'service': ' child assessment of learninabilitiewellbeing. Individua Postgraduate training clinic supervised by Clinical Psychologist supervisors.   Age: Children 2--5 year children 5-12 yearadolescents Services provided: academic performancbehaviour anxiettrainin-child relationship issuebehavioural problemdivorce/separatiohealth-related problem'},\n",
       "             (33.0,\n",
       "              2): {'address': 'Think Therapy 1/3 Goddard St  Rockingham WA  6168      ', 'contact': 'Phone:  Mobile:  Website:  Email:  Fax: 6181 0055   0422 126 314 www.thinktherapy.com.au info@thinktherapy.com.au 6313 0611  ', 'names': ' Kylie Small ', 'service': 'assessmenObsessive-Compulsive Disorder (OCDself-esteem & self-developmensocial skill Other: work with children from 4 years   Age: infants 0- 2 year-5 year-12 year Services provided: anxietassertiveness trainin-child relationship issueDisorder (ADHDbehavioural problembullyineating disorder'}})"
      ]
     },
     "execution_count": 134,
     "metadata": {},
     "output_type": "execute_result"
    }
   ],
   "source": [
    "entries = get_rows(pos,text)\n",
    "entries\n"
   ]
  },
  {
   "cell_type": "code",
   "execution_count": 135,
   "metadata": {
    "collapsed": false
   },
   "outputs": [],
   "source": [
    "def varients(alt_name):\n",
    "    yield alt_name\n",
    "    yield alt_name.lower()\n",
    "    yield \"\".join(alt_name.split())\n",
    "    yield \"\".join(alt_name.lower().split())\n",
    "    yield re.sub(r'[^\\w]', '', alt_name)\n",
    "    yield re.sub(r'[^\\w]', '', alt_name.lower())\n",
    "    #Maybe we miss things with spaces and symbols?\n",
    "    \n",
    "    \n",
    "    \n",
    "def load_service_aliases():\n",
    "    servise_names = json.load(open(\"./spec_types.json\",\"r\"))\n",
    "    aliases = {}\n",
    "    for canon_name, altnames in  servise_names.items():\n",
    "        \n",
    "        for altname in altnames:\n",
    "            for varient in varients(altname):\n",
    "                if len(varient) == 1:\n",
    "                    continue\n",
    "                    \n",
    "                aliases[varient] = canon_name\n",
    "        for varient in canon_name:\n",
    "            if len(varient) == 1:\n",
    "                continue\n",
    "\n",
    "            aliases[varient] = canon_name\n",
    "    return aliases\n",
    "        \n",
    "SERVICE_ALIASES = load_service_aliases()"
   ]
  },
  {
   "cell_type": "code",
   "execution_count": 136,
   "metadata": {
    "collapsed": false
   },
   "outputs": [
    {
     "data": {
      "text/plain": [
       "['Kenwick']"
      ]
     },
     "execution_count": 136,
     "metadata": {},
     "output_type": "execute_result"
    }
   ],
   "source": [
    "re.findall(r\"[A-Z|a-z]+(?=\\sWA)\", \"sdsd Kenwick WA sdsd\")"
   ]
  },
  {
   "cell_type": "code",
   "execution_count": null,
   "metadata": {
    "collapsed": true
   },
   "outputs": [],
   "source": []
  },
  {
   "cell_type": "code",
   "execution_count": 137,
   "metadata": {
    "collapsed": false
   },
   "outputs": [],
   "source": [
    "def NameCase(s):\n",
    "    return s[0].upper() + s[1:].lower() \n",
    "\n",
    "\n",
    "def parse_address(tt):\n",
    "    loc_parts = re.findall(r\"[A-Z][A-Z]+\", tt)\n",
    "    if loc_parts==['WA']:\n",
    "        #Only WA found\n",
    "        loc_parts = re.findall(r\"[A-Z|a-z]+(?=\\sWA)\", tt)\n",
    "    \n",
    "     \n",
    "    loc_parts=filter(lambda p: p!=\"WA\", loc_parts)\n",
    "    loc_parts = map(NameCase, loc_parts)\n",
    "\n",
    "    \n",
    "    return \"area\", \" \".join(loc_parts)\n",
    "\n",
    "\n",
    "def parse_names(tt):\n",
    "#    uc = [t==t.upper]\n",
    "    names = re.findall(r\"[A-Z][a-z]+\", tt)\n",
    "    #surname_and_first = re.findall*()\n",
    "    \n",
    "    #parts = re.findall(r\"[A-Z][A-Z]+[a-z]+\", tt)\n",
    "    #names = []\n",
    "    #for part in parts:\n",
    "    #    if all([p==p.upper() for p in part]):\n",
    "    #        names+=part\n",
    "    #    else:\n",
    "    #        surnames = re.findall(r\"[A-Z]+*\", tt)\n",
    "    if len(names)>2:\n",
    "        names = names[:2]\n",
    "    return  \"name\",\" \".join(names)\n",
    "\n",
    "\n",
    "def parse_services(tt):\n",
    "    mad_skills = set()\n",
    "    for skill_varname, canon_name in SERVICE_ALIASES.items():\n",
    "        if skill_varname in tt:\n",
    "            mad_skills.add(canon_name)\n",
    "    return  \"expertise\", list(mad_skills)\n",
    "\n",
    "\n",
    "def parse_contact(tt):\n",
    "    numbers = re.findall(r\"[0-9][0-9][0-9][0-9] [0-9][0-9][0-9][0-9]\", tt)\n",
    "    if len(numbers) == 0: \n",
    "        return  \"number\",\"\"        \n",
    "    else:\n",
    "        return \"number\", numbers[-1]\n",
    "\n",
    "\n",
    "parsers = {'address': parse_address, 'names': parse_names, 'contact': parse_contact, 'service': parse_services}\n",
    "\n",
    "def make_data_for_jvb(entry):\n",
    "    jvb_format = {'specialistType': \"Psychologist\"}\n",
    "    \n",
    "    for key, tt in entry.items():\n",
    "        jvb_key, jvb_value = parsers[key](tt)\n",
    "        jvb_format[jvb_key] = jvb_value\n",
    "        \n",
    "    return jvb_format\n",
    "\n",
    "\n",
    "def make_all_data_for_jon(entries):\n",
    "    data=[]\n",
    "    for entry in entries.values():\n",
    "        datum = make_data_for_jvb(entry)\n",
    "        if len(datum['name'].strip()) > 0: \n",
    "            data.append(datum)\n",
    "    return data\n",
    "\n",
    "        "
   ]
  },
  {
   "cell_type": "code",
   "execution_count": 138,
   "metadata": {
    "collapsed": false
   },
   "outputs": [
    {
     "data": {
      "text/plain": [
       "{'area': 'Shenton Park',\n",
       " 'expertise': ['Self-esteem', 'Adolescents', 'ADHD', 'OCD'],\n",
       " 'name': 'Peter Dunlop',\n",
       " 'number': '9388 6834',\n",
       " 'specialistType': 'Psychologist'}"
      ]
     },
     "execution_count": 138,
     "metadata": {},
     "output_type": "execute_result"
    }
   ],
   "source": [
    "make_data_for_jvb(list(entries.values())[2])"
   ]
  },
  {
   "cell_type": "code",
   "execution_count": 139,
   "metadata": {
    "collapsed": false
   },
   "outputs": [],
   "source": [
    "with open(\"../../www/default-data/auto_psych.json\",\"w\") as fh:\n",
    "    json.dump(make_all_data_for_jon(entries), fh, sort_keys=True, indent=4, separators=(',', ': '))\n"
   ]
  },
  {
   "cell_type": "code",
   "execution_count": 140,
   "metadata": {
    "collapsed": false
   },
   "outputs": [
    {
     "data": {
      "text/plain": [
       "{2}"
      ]
     },
     "execution_count": 140,
     "metadata": {},
     "output_type": "execute_result"
    }
   ],
   "source": [
    "ss=set()\n",
    "ss.add(2)\n",
    "ss"
   ]
  },
  {
   "cell_type": "code",
   "execution_count": null,
   "metadata": {
    "collapsed": true
   },
   "outputs": [],
   "source": []
  },
  {
   "cell_type": "code",
   "execution_count": null,
   "metadata": {
    "collapsed": true
   },
   "outputs": [],
   "source": []
  },
  {
   "cell_type": "code",
   "execution_count": null,
   "metadata": {
    "collapsed": true
   },
   "outputs": [],
   "source": []
  },
  {
   "cell_type": "code",
   "execution_count": null,
   "metadata": {
    "collapsed": true
   },
   "outputs": [],
   "source": []
  }
 ],
 "metadata": {
  "kernelspec": {
   "display_name": "Python 3",
   "language": "python",
   "name": "python3"
  },
  "language_info": {
   "codemirror_mode": {
    "name": "ipython",
    "version": 3
   },
   "file_extension": ".py",
   "mimetype": "text/x-python",
   "name": "python",
   "nbconvert_exporter": "python",
   "pygments_lexer": "ipython3",
   "version": "3.4.2"
  }
 },
 "nbformat": 4,
 "nbformat_minor": 0
}
